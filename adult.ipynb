{
 "metadata": {
  "language_info": {
   "codemirror_mode": {
    "name": "ipython",
    "version": 3
   },
   "file_extension": ".py",
   "mimetype": "text/x-python",
   "name": "python",
   "nbconvert_exporter": "python",
   "pygments_lexer": "ipython3",
   "version": "3.8.6"
  },
  "orig_nbformat": 4,
  "kernelspec": {
   "name": "python3",
   "display_name": "Python 3.8.6 64-bit"
  },
  "interpreter": {
   "hash": "aee8b7b246df8f9039afb4144a1f6fd8d2ca17a180786b69acc140d282b71a49"
  }
 },
 "nbformat": 4,
 "nbformat_minor": 2,
 "cells": [
  {
   "cell_type": "code",
   "execution_count": null,
   "metadata": {},
   "outputs": [],
   "source": [
    "import requests, bs4\n",
    "from lxml import etree\n",
    "import pandas as pd\n",
    "import re\n",
    "from tqdm import trange\n",
    "import json\n",
    "\n",
    "pd.set_option(\"display.max_columns\",100)\n",
    "pd.set_option(\"display.max_rows\",100)"
   ]
  },
  {
   "cell_type": "code",
   "execution_count": null,
   "metadata": {},
   "outputs": [],
   "source": [
    "def adult_crawler(n):\n",
    "    url = f'https://pornhub.com/video?page={n}'\n",
    "    response = requests.get(url)\n",
    "    content = response.content.decode()\n",
    "    html = etree.HTML(content)\n",
    "\n",
    "    video_title_o = html.xpath(\"//li[@class='pcVideoListItem js-pop videoblock videoBox']//span[@class='title']/a[@title]/text()\")\n",
    "    video_thumb = html.xpath(\"//li[@class='pcVideoListItem js-pop videoblock videoBox']//img[@data-thumb_url]/@data-thumb_url\")\n",
    "    video_views = html.xpath(\"//li[@class='pcVideoListItem js-pop videoblock videoBox']//span[@class='views']/var/text()\")\n",
    "    video_likes = html.xpath(\"//li[@class='pcVideoListItem js-pop videoblock videoBox']//div[@class='value']/text()\")\n",
    "    video_users = html.xpath(\"//li[@class='pcVideoListItem js-pop videoblock videoBox']//div[@class='usernameWrap']/a/text()\")\n",
    "    video_url_o = html.xpath(\"//li[@class='pcVideoListItem js-pop videoblock videoBox']//span[@class='title']/a[@href]/@href\")\n",
    "\n",
    "    video_url=[]\n",
    "    for i in video_url_o:\n",
    "        video_url_i = f'https://pornhub.com{i}'\n",
    "        video_url.append(video_url_i)\n",
    "\n",
    "    video_title = [re.sub('\\n', '', video_title_o[i]) for i in range(len(video_title_o))]\n",
    "    video_title = [re.sub(' ', '', video_title[i]) for i in range(len(video_title))]\n",
    "\n",
    "    up_time_o=[]\n",
    "    #video_time=[]\n",
    "    video_star_o=[]\n",
    "    for i in video_url:\n",
    "        sub_response = requests.get(i)\n",
    "        sub_content = sub_response.content.decode()\n",
    "        html = etree.HTML(sub_content)\n",
    "        video_star_o.append(html.xpath(\"//a[@class='pstar-list-btn js-mxp']/text()\"))\n",
    "        up_time_o.append(html.xpath(\"//div[@class='videoInfo']/text()\"))\n",
    "        #video_time.append(html.xpath(\"//span[@class='mgp_total']/text()\"))\n",
    "\n",
    "    for j in range(len(video_star_o)):\n",
    "        video_star_o[j] = [re.sub('\\n', '', video_star_o[j][i]) for i in range(len(video_star_o[j]))]\n",
    "        video_star_o[j] = [re.sub('\\t', '', video_star_o[j][i]) for i in range(len(video_star_o[j]))]\n",
    "\n",
    "    video_star_c=[]\n",
    "    for i in range(len(video_star_o)):\n",
    "        video_star_c.append(sorted(video_star_o[i]))\n",
    "    for i in range(len(video_star_c)):\n",
    "        while '' in video_star_c[i]:\n",
    "                video_star_c[i].remove('')\n",
    "\n",
    "    v1=[]\n",
    "    v2=[]\n",
    "    for i in range(len(video_star_c)):\n",
    "            try:\n",
    "                v1.append(video_star_c[i][0])\n",
    "            except:\n",
    "                v1.append('')\n",
    "            try:\n",
    "                v2.append(video_star_c[i][1])\n",
    "            except:\n",
    "                v2.append('')\n",
    "\n",
    "    up_time=[]\n",
    "    for i in range(len(up_time_o)):\n",
    "        up_time.append(up_time_o[i][0])\n",
    "        \n",
    "\n",
    "    video_table = pd.DataFrame({'影片標題':video_title,\n",
    "                                '觀看次數':video_views,\n",
    "                                '影片明星1':v1,'影片明星2':v2,\n",
    "                                #'影片時間':video_time,\n",
    "                                '上傳時間':up_time,\n",
    "                                '影片評價':video_likes,\n",
    "                                '發布者':video_users,\n",
    "                                '影片縮圖':video_thumb,\n",
    "                                '影片連結':video_url\n",
    "                                })\n",
    "\n",
    "    video_table.insert(1, '影片明星', video_table['影片明星1']+''+video_table['影片明星2'])\n",
    "    del video_table['影片明星1'],video_table['影片明星2']\n",
    "\n",
    "    return video_table\n"
   ]
  },
  {
   "cell_type": "code",
   "execution_count": null,
   "metadata": {},
   "outputs": [],
   "source": [
    "df = pd.concat(adult_crawler(i) for i in trange(11)).reset_index(drop=True)\n",
    "df.head(100)"
   ]
  },
  {
   "cell_type": "code",
   "execution_count": null,
   "metadata": {},
   "outputs": [],
   "source": [
    "df.to_csv(\"/Users/syunhua/Desktop/000_prase_python/adult_crawler.csv\")"
   ]
  },
  {
   "cell_type": "code",
   "execution_count": null,
   "metadata": {},
   "outputs": [],
   "source": []
  }
 ]
}