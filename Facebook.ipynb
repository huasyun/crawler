{
 "metadata": {
  "language_info": {
   "codemirror_mode": {
    "name": "ipython",
    "version": 3
   },
   "file_extension": ".py",
   "mimetype": "text/x-python",
   "name": "python",
   "nbconvert_exporter": "python",
   "pygments_lexer": "ipython3",
   "version": "3.8.6"
  },
  "orig_nbformat": 4,
  "kernelspec": {
   "name": "python3",
   "display_name": "Python 3.8.6 64-bit"
  },
  "interpreter": {
   "hash": "aee8b7b246df8f9039afb4144a1f6fd8d2ca17a180786b69acc140d282b71a49"
  }
 },
 "nbformat": 4,
 "nbformat_minor": 2,
 "cells": [
  {
   "cell_type": "code",
   "execution_count": null,
   "metadata": {},
   "outputs": [],
   "source": [
    "import pandas as pd\n",
    "import requests\n",
    "import re\n",
    "import time\n",
    "import pyautogui\n",
    "from selenium import webdriver\n",
    "from selenium.webdriver.chrome.options import Options\n",
    "from webdriver_manager.chrome import ChromeDriverManager\n",
    "from selenium.webdriver.common.keys import Keys"
   ]
  },
  {
   "cell_type": "code",
   "execution_count": null,
   "metadata": {},
   "outputs": [],
   "source": [
    "opts = Options()\n",
    "#opts.add_argument('--headless')  #無頭chrome\n",
    "opts.add_argument('--disable-gpu')\n",
    "driver = webdriver.Chrome(executable_path=ChromeDriverManager().install(),chrome_options=opts)\n",
    "\n",
    "#登入\n",
    "driver.get('https://www.facebook.com/login/?next=https%3A%2F%2Fwww.facebook.com%2Fpg%2FGraduateStudentMemes%2Fposts%2F')\n",
    "element = driver.find_element_by_xpath(\"//input[@class='inputtext _55r1 inputtext _1kbt inputtext _1kbt']\")\n",
    "#帳號\n",
    "element.send_keys(\"帳號\")\n",
    "element = driver.find_element_by_xpath(\"//input[@class='inputtext _55r1 inputtext _9npi inputtext _9npi']\")\n",
    "#密碼\n",
    "element.send_keys(\"密碼\")\n",
    "element = driver.find_element_by_xpath(\"//button[@class='_42ft _4jy0 _52e0 _4jy6 _4jy1 selected _51sy']\")\n",
    "element.click()\n",
    "time.sleep(10)\n",
    "pyautogui.click(400,220, button='left', duration=1)\n",
    "\n",
    "#粉專主頁\n",
    "driver.get('https://www.facebook.com/GraduateStudentMemes/')\n",
    "time.sleep(3)\n",
    "page_down = driver.find_element_by_tag_name('body')\n",
    "time.sleep(3)\n",
    "\n",
    "#先滑至最底\n",
    "for i in range(150):\n",
    "    page_down.send_keys(Keys.END)\n",
    "    time.sleep(3)\n",
    "\n",
    "#一次爬完，抓取所有貼文圖片網址\n",
    "meme_image=[]\n",
    "for i in range(500):\n",
    "    try:\n",
    "        meme_images = driver.find_element_by_xpath(f\"(//div[@class='pmk7jnqg kr520xx4']/img)[{i}]\")\n",
    "        meme_image.append(meme_images.get_attribute('src'))\n",
    "    except:\n",
    "        meme_image.append('')\n",
    "\n",
    "#連結所有圖片網址\n",
    "r=[]\n",
    "for i in meme_image:\n",
    "    try:\n",
    "        r.append(requests.get(i))\n",
    "    except:\n",
    "        pass\n",
    "\n",
    "#下載圖片\n",
    "for i in range(len(r)):\n",
    "    try:\n",
    "        with open(f'..//meme{i}.jpg', 'wb') as f: #將檔案寫入資料夾中\n",
    "            f.write(r[i].content)\n",
    "    except:\n",
    "        pass"
   ]
  }
 ]
}