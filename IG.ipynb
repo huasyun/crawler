{
 "metadata": {
  "language_info": {
   "codemirror_mode": {
    "name": "ipython",
    "version": 3
   },
   "file_extension": ".py",
   "mimetype": "text/x-python",
   "name": "python",
   "nbconvert_exporter": "python",
   "pygments_lexer": "ipython3",
   "version": "3.8.6"
  },
  "orig_nbformat": 4,
  "kernelspec": {
   "name": "python3",
   "display_name": "Python 3.8.6 64-bit"
  },
  "interpreter": {
   "hash": "aee8b7b246df8f9039afb4144a1f6fd8d2ca17a180786b69acc140d282b71a49"
  }
 },
 "nbformat": 4,
 "nbformat_minor": 2,
 "cells": [
  {
   "cell_type": "code",
   "execution_count": null,
   "metadata": {},
   "outputs": [],
   "source": [
    "import pandas as pd\n",
    "import requests\n",
    "import re\n",
    "import time\n",
    "import pyautogui\n",
    "from selenium import webdriver\n",
    "from selenium.webdriver.chrome.options import Options\n",
    "from webdriver_manager.chrome import ChromeDriverManager\n",
    "from selenium.webdriver.common.keys import Keys"
   ]
  },
  {
   "cell_type": "code",
   "execution_count": null,
   "metadata": {},
   "outputs": [],
   "source": [
    "opts = Options()\n",
    "#opts.add_argument('--headless')  #無頭chrome\n",
    "opts.add_argument('--disable-gpu')\n",
    "driver = webdriver.Chrome(executable_path=ChromeDriverManager().install(),chrome_options=opts)\n",
    "\n",
    "#登入\n",
    "driver.get('https://www.instagram.com/accounts/login/?next=%2Fmybosseatshit%2F&source=desktop_nav')\n",
    "time.sleep(3)\n",
    "element = driver.find_element_by_xpath(\"//input[@name='username']\")\n",
    "#帳號\n",
    "element.send_keys(\"帳號\")\n",
    "time.sleep(3)\n",
    "element = driver.find_element_by_xpath(\"//input[@name='password']\")\n",
    "#密碼\n",
    "element.send_keys(\"密碼\")\n",
    "time.sleep(10)\n",
    "\n",
    "\n",
    "#粉專頁面\n",
    "#https://www.instagram.com/mybosseatshit\n",
    "page_down = driver.find_element_by_tag_name('body')\n",
    "time.sleep(3)\n",
    "\n",
    "#先滑至最底\n",
    "for i in range(100):\n",
    "    page_down.send_keys(Keys.END)\n",
    "    time.sleep(3)\n",
    "\n",
    "\n",
    "#一次爬完，抓取所有貼文圖片網址\n",
    "meme_image_o=[]\n",
    "for i in range(300):\n",
    "    try:\n",
    "        meme_images = driver.find_element_by_xpath(f\"(//div[@class='KL4Bh']/img)[{i}]\")\n",
    "        meme_image_o.append(meme_images.get_attribute('srcset'))\n",
    "    except:\n",
    "        meme_image_o.append('')\n",
    "\n",
    "meme_image=[]\n",
    "for i in range(len(meme_image_o)):\n",
    "    meme_image.append(re.split(' \\d{2}0w,', meme_image_o[i]))\n",
    "\n",
    "\n",
    "#連結所有圖片網址\n",
    "links=[]\n",
    "for i in meme_image:\n",
    "    try:\n",
    "        links.append(requests.get(i[4]))\n",
    "    except:\n",
    "        pass\n",
    "\n",
    "#下載圖片\n",
    "for i in range(len(links)):\n",
    "    try:\n",
    "        with open(f'.//meme{i}.jpg', 'wb') as f: #將檔案寫入資料夾中\n",
    "            f.write(links[i].content)\n",
    "    except:\n",
    "        pass\n"
   ]
  }
 ]
}